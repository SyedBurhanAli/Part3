{
 "cells": [
  {
   "cell_type": "markdown",
   "metadata": {},
   "source": [
    "# While Loops"
   ]
  },
  {
   "cell_type": "code",
   "execution_count": 1,
   "metadata": {},
   "outputs": [],
   "source": [
    "# They work similar to for loops. But differ in the sense that it allows user to\n",
    "# terminate loop by setting flags."
   ]
  },
  {
   "cell_type": "code",
   "execution_count": 2,
   "metadata": {},
   "outputs": [
    {
     "name": "stdout",
     "output_type": "stream",
     "text": [
      "0 This is while loop printing\n",
      "1 This is while loop printing\n",
      "2 This is while loop printing\n",
      "3 This is while loop printing\n",
      "4 This is while loop printing\n",
      "5 This is while loop printing\n",
      "6 This is while loop printing\n",
      "7 This is while loop printing\n",
      "8 This is while loop printing\n",
      "9 This is while loop printing\n"
     ]
    }
   ],
   "source": [
    "a = 0\n",
    "while a<10:\n",
    "    print(a, \"This is while loop printing\")\n",
    "    a+= 1\n"
   ]
  },
  {
   "cell_type": "code",
   "execution_count": 4,
   "metadata": {},
   "outputs": [
    {
     "name": "stdout",
     "output_type": "stream",
     "text": [
      "0 This is for loop printing\n",
      "1 This is for loop printing\n",
      "2 This is for loop printing\n",
      "3 This is for loop printing\n",
      "4 This is for loop printing\n",
      "5 This is for loop printing\n",
      "6 This is for loop printing\n",
      "7 This is for loop printing\n",
      "8 This is for loop printing\n",
      "9 This is for loop printing\n",
      "10 This is for loop printing\n"
     ]
    }
   ],
   "source": [
    "for num in range(11):\n",
    "    print(num, \"This is for loop printing\")"
   ]
  },
  {
   "cell_type": "code",
   "execution_count": 7,
   "metadata": {},
   "outputs": [
    {
     "name": "stdout",
     "output_type": "stream",
     "text": [
      "enter your favorite foodsbiryani\n",
      "enter your favorite foodsmaghaz\n",
      "enter your favorite foodskarahi\n",
      "enter your favorite foodsxxx\n",
      "enter your favorite foodsxxx\n",
      "enter your favorite foodsxxx\n",
      "enter your favorite foodsxxx\n",
      "enter your favorite foodsxxxx\n",
      "enter your favorite foodsxxx\n",
      "enter your favorite foodsxxxxx\n"
     ]
    }
   ],
   "source": [
    "a = 0\n",
    "while a<10:\n",
    "    userinput = input(\"enter your favorite foods\")\n",
    "    a+= 1"
   ]
  },
  {
   "cell_type": "code",
   "execution_count": 8,
   "metadata": {},
   "outputs": [
    {
     "name": "stdout",
     "output_type": "stream",
     "text": [
      "Enter your favorite foods Biryani\n",
      "Enter your favorite foods Maghaz\n",
      "Enter your favorite foods Karachi\n",
      "Enter your favorite foods Q\n"
     ]
    },
    {
     "data": {
      "text/plain": [
       "['Biryani', 'Maghaz', 'Karachi']"
      ]
     },
     "execution_count": 8,
     "metadata": {},
     "output_type": "execute_result"
    }
   ],
   "source": [
    "flag = True\n",
    "favFoods=[]\n",
    "\n",
    "while flag:\n",
    "    userinput = input(\"Enter your favorite foods \")\n",
    "    if userinput == \"Q\":\n",
    "        flag = False\n",
    "    else:\n",
    "        favFoods.append(userinput)\n",
    "\n",
    "favFoods\n",
    "    "
   ]
  },
  {
   "cell_type": "markdown",
   "metadata": {},
   "source": [
    "# From Python Crash Course "
   ]
  },
  {
   "cell_type": "code",
   "execution_count": 9,
   "metadata": {},
   "outputs": [
    {
     "name": "stdout",
     "output_type": "stream",
     "text": [
      "\n",
      "Tell me something, and I will repeat it back to you:\n",
      "Enter 'quit' to end the program. I Love My Self Enough\n",
      "I Love My Self Enough\n",
      "\n",
      "Tell me something, and I will repeat it back to you:\n",
      "Enter 'quit' to end the program. quit\n",
      "quit\n"
     ]
    }
   ],
   "source": [
    "prompt = \"\\nTell me something, and I will repeat it back to you:\"\n",
    "prompt += \"\\nEnter 'quit' to end the program. \"\n",
    "\n",
    "message = \"\"\n",
    "while message != 'quit':\n",
    "    message = input(prompt)\n",
    "    print(message)"
   ]
  },
  {
   "cell_type": "code",
   "execution_count": 12,
   "metadata": {},
   "outputs": [
    {
     "data": {
      "text/plain": [
       "\"\\nThe first time through the loop, message is just an empty string, so Python\\nenters the loop. At message = input(prompt), Python displays the prompt and\\nwaits for the user to enter their input. Whatever they enter is stored in message\\nand printed; then, Python reevaluates the condition in the while statement.\\nAs long as the user has not entered the word 'quit', the prompt is displayed\\nagain and Python waits for more input. When the user finally enters 'quit',\\nPython stops executing the while loop and the program ends:\""
      ]
     },
     "execution_count": 12,
     "metadata": {},
     "output_type": "execute_result"
    }
   ],
   "source": [
    "\"\"\"\n",
    "The first time through the loop, message is just an empty string, so Python\n",
    "enters the loop. At message = input(prompt), Python displays the prompt and\n",
    "waits for the user to enter their input. Whatever they enter is stored in message\n",
    "and printed; then, Python reevaluates the condition in the while statement.\n",
    "As long as the user has not entered the word 'quit', the prompt is displayed\n",
    "again and Python waits for more input. When the user finally enters 'quit',\n",
    "Python stops executing the while loop and the program ends:\"\"\""
   ]
  },
  {
   "cell_type": "code",
   "execution_count": 10,
   "metadata": {},
   "outputs": [
    {
     "name": "stdout",
     "output_type": "stream",
     "text": [
      "\n",
      "Tell me something, and I will repeat it back to you:\n",
      "Enter 'quit' to end the program. I Love Myself Enough\n",
      "I Love Myself Enough\n",
      "\n",
      "Tell me something, and I will repeat it back to you:\n",
      "Enter 'quit' to end the program. quit\n"
     ]
    }
   ],
   "source": [
    "prompt = \"\\nTell me something, and I will repeat it back to you:\"\n",
    "prompt += \"\\nEnter 'quit' to end the program. \"\n",
    "message = \"\"\n",
    "while message != 'quit':\n",
    "    message = input(prompt)\n",
    "    if message != 'quit':\n",
    "        print(message)"
   ]
  },
  {
   "cell_type": "code",
   "execution_count": 24,
   "metadata": {},
   "outputs": [
    {
     "name": "stdout",
     "output_type": "stream",
     "text": [
      "\n",
      "Tell me something, and I will repeat it back to you:\n",
      "Enter 'quit' to end the program. Love You\n",
      "Love You\n",
      "\n",
      "Tell me something, and I will repeat it back to you:\n",
      "Enter 'quit' to end the program. quit\n"
     ]
    }
   ],
   "source": [
    "# Using a Flag\n",
    "\n",
    "prompt = \"\\nTell me something, and I will repeat it back to you:\"\n",
    "prompt += \"\\nEnter 'quit' to end the program. \"\n",
    "\n",
    "active = True\n",
    "while active:\n",
    "    message = input(prompt)\n",
    "    if message == 'quit':\n",
    "        active = False\n",
    "    else:\n",
    "        print(message)"
   ]
  },
  {
   "cell_type": "code",
   "execution_count": null,
   "metadata": {},
   "outputs": [],
   "source": []
  },
  {
   "cell_type": "code",
   "execution_count": null,
   "metadata": {},
   "outputs": [],
   "source": []
  },
  {
   "cell_type": "code",
   "execution_count": null,
   "metadata": {},
   "outputs": [],
   "source": []
  }
 ],
 "metadata": {
  "kernelspec": {
   "display_name": "Python 3",
   "language": "python",
   "name": "python3"
  },
  "language_info": {
   "codemirror_mode": {
    "name": "ipython",
    "version": 3
   },
   "file_extension": ".py",
   "mimetype": "text/x-python",
   "name": "python",
   "nbconvert_exporter": "python",
   "pygments_lexer": "ipython3",
   "version": "3.7.6"
  }
 },
 "nbformat": 4,
 "nbformat_minor": 4
}
