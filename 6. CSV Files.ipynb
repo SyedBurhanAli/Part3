{
 "cells": [
  {
   "cell_type": "markdown",
   "metadata": {},
   "source": [
    "# CSV Files"
   ]
  },
  {
   "cell_type": "code",
   "execution_count": null,
   "metadata": {},
   "outputs": [],
   "source": [
    "# Reading Data from CSV file"
   ]
  },
  {
   "cell_type": "code",
   "execution_count": 1,
   "metadata": {},
   "outputs": [],
   "source": [
    "import csv"
   ]
  },
  {
   "cell_type": "code",
   "execution_count": 10,
   "metadata": {},
   "outputs": [
    {
     "name": "stdout",
     "output_type": "stream",
     "text": [
      "['Year', 'Event', 'Winner']\n",
      "['1995', 'Best-Kept Lawn', 'None']\n",
      "['1999', 'Gobstones', 'Welch National']\n",
      "['2006', 'World Cup', 'Burkina Faso']\n"
     ]
    }
   ],
   "source": [
    "with open (\"abc.csv\") as file:\n",
    "    contents = csv.reader(file)\n",
    "    \n",
    "    for content in contents:\n",
    "        print(content)\n"
   ]
  },
  {
   "cell_type": "code",
   "execution_count": null,
   "metadata": {},
   "outputs": [],
   "source": [
    "# Writing Data from CSV file"
   ]
  },
  {
   "cell_type": "code",
   "execution_count": 6,
   "metadata": {},
   "outputs": [],
   "source": [
    "with open (\"xyz.csv\" , \"w\" , newline=\"\") as file:\n",
    "    fileWriter = csv.writer(file)\n",
    "    fileWriter.writerow([\"2020\",\"CW2020\" , \"ENG\"])"
   ]
  },
  {
   "cell_type": "code",
   "execution_count": 7,
   "metadata": {},
   "outputs": [],
   "source": [
    "# Append Data from CSV file"
   ]
  },
  {
   "cell_type": "code",
   "execution_count": 8,
   "metadata": {},
   "outputs": [],
   "source": [
    "with open (\"xyz.csv\" , \"a\" , newline=\"\") as file:\n",
    "    fileWriter = csv.writer(file)\n",
    "    fileWriter.writerow([\"2021\",\"CW2021\" , \"ENG\"])\n",
    "    fileWriter.writerow([\"2022\",\"CW2022\" , \"ENG\"])"
   ]
  },
  {
   "cell_type": "code",
   "execution_count": null,
   "metadata": {},
   "outputs": [],
   "source": []
  }
 ],
 "metadata": {
  "kernelspec": {
   "display_name": "Python 3",
   "language": "python",
   "name": "python3"
  },
  "language_info": {
   "codemirror_mode": {
    "name": "ipython",
    "version": 3
   },
   "file_extension": ".py",
   "mimetype": "text/x-python",
   "name": "python",
   "nbconvert_exporter": "python",
   "pygments_lexer": "ipython3",
   "version": "3.7.6"
  }
 },
 "nbformat": 4,
 "nbformat_minor": 4
}
